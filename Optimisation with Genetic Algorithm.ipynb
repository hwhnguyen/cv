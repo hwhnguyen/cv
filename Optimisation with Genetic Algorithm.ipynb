{
 "cells": [
  {
   "cell_type": "markdown",
   "metadata": {},
   "source": [
    "# Optimisation with Genetic Algorithm\n",
    "\n",
    "Task: Use a genetic algorithm to estimate the intersection point of two straight lines: \n",
    "* $y_{1}=-x$\n",
    "* $y_{2}=x+1$"
   ]
  },
  {
   "cell_type": "markdown",
   "metadata": {},
   "source": [
    "### 1) Import the required Python libraries"
   ]
  },
  {
   "cell_type": "code",
   "execution_count": 1,
   "metadata": {},
   "outputs": [],
   "source": [
    "import numpy as np\n",
    "import sympy as sp\n",
    "import matplotlib.pyplot as plt\n",
    "sp.init_printing()"
   ]
  },
  {
   "cell_type": "markdown",
   "metadata": {},
   "source": [
    "### 2) For context, plot the two straight lines together to show the intersection point\n",
    "\n",
    "* From the below plot the expected intersection point is at $x = -\\dfrac{1}{2}$\n",
    "* The genetic algorithm should yield a similar value."
   ]
  },
  {
   "cell_type": "code",
   "execution_count": 2,
   "metadata": {},
   "outputs": [
    {
     "data": {
      "image/png": "[encoded data removed]",
      "text/plain": [
       "<Figure size 432x288 with 1 Axes>"
      ]
     },
     "metadata": {
      "needs_background": "light"
     },
     "output_type": "display_data"
    }
   ],
   "source": [
    "x = sp.Symbol('x')\n",
    "\n",
    "y1 = -x\n",
    "y2 = x+1\n",
    "\n",
    "plot = sp.plotting.plot(y1, (x,-2,2), aspect_ratio=[1,1], show=False) # Blue line\n",
    "plot.extend(sp.plotting.plot(y2, (x,-2,2), aspect_ratio=[1,1], show=False)) # Orange line\n",
    "plot.show()"
   ]
  },
  {
   "cell_type": "markdown",
   "metadata": {},
   "source": [
    "### 3) Define the objective (or cost) function as the squared difference between $y_{1}$ and $y_{2}$\n",
    "* Best fitness occurs at the intersection point, where $y_{1}-y_{2} = 0$\n",
    "* Square the return value to ensure the algorithm optimises for the minimum squared error $min([y_{1}-y_{2}]^{2}) = 0$\n",
    "* If we do not square the return value, the algorithm will incorrectly select for $x$ values that yield the most extreme negative difference $min(y_{1}-y_{2}) = -\\infty$"
   ]
  },
  {
   "cell_type": "code",
   "execution_count": 3,
   "metadata": {},
   "outputs": [],
   "source": [
    "def objective(x):\n",
    "    return ((-x) - (x+1))**2"
   ]
  },
  {
   "cell_type": "markdown",
   "metadata": {},
   "source": [
    "### 4) Initialise parameters for the genetic algorithm"
   ]
  },
  {
   "cell_type": "code",
   "execution_count": 4,
   "metadata": {},
   "outputs": [],
   "source": [
    "population = None # Initialise a population of \"guinea pigs\". Each \"guinea pigs\" is represented by a number.\n",
    "best_current = None # Best estimate for the intersection point\n",
    "best_history = [] # Record historical estimates for the intersection point, to plot learning curve\n",
    "epochs = 100 # How many generations of \"guinea pigs\"?\n",
    "pop_size = 1000 # How many \"guinea pigs\" in the pig pen?\n",
    "mutation_rate = 0.1 # The propotion of \"guinea pigs\" to develop mutations"
   ]
  },
  {
   "cell_type": "markdown",
   "metadata": {},
   "source": [
    "### 5) Implement the genetic algorithm in a for-loop\n",
    "* Initialisation: Generate a population of \"guinea pigs\". Each \"guinea pigs\" is represented by a number.\n",
    "* Evaluation: Each \"guinea pig\" is evaluated for fitness against the objective function.\n",
    "* Mutation: Randomly mutate a certain proportion of the \"guinea pig\" population. Some pigs become fitter (or unfit).\n",
    "* Elitism: Ensure that the fittest \"guinea pig\" is remains in the population.\n"
   ]
  },
  {
   "cell_type": "code",
   "execution_count": 5,
   "metadata": {},
   "outputs": [],
   "source": [
    "\n",
    "\n",
    "for i in range(epochs): # Epochs\n",
    "    # Initialisation\n",
    "    if population is None:\n",
    "        population = []\n",
    "        for i in range(pop_size): # Population size\n",
    "            population.append(np.random.choice([-1,1])*np.random.random()*np.random.randint(-1000, 1000))\n",
    "\n",
    "    # Evaluation\n",
    "    fitness = [objective(x) for x in population]\n",
    "    best_current = population[np.argmin(fitness)]\n",
    "    best_history.append(best_current)\n",
    "\n",
    "    # Mutation\n",
    "    for k in range(len(population)):\n",
    "        if np.random.uniform() <= mutation_rate:\n",
    "            population[k] = np.random.choice([-1,1])*np.random.random()*np.random.randint(-1000, 1000)\n",
    "\n",
    "    # Elitism\n",
    "    chosen_one = np.random.randint(0, len(population))\n",
    "    population[chosen_one] = best_current"
   ]
  },
  {
   "cell_type": "markdown",
   "metadata": {},
   "source": [
    "### 6) What is the genetic algorithm's best estimate of the intersection point between $y_{1}$ and $y_{2}$?"
   ]
  },
  {
   "cell_type": "code",
   "execution_count": 6,
   "metadata": {},
   "outputs": [
    {
     "data": {
      "image/png": "[encoded data removed]",
      "text/latex": [
       "$\\displaystyle -0.497829490753225$"
      ],
      "text/plain": [
       "-0.4978294907532249"
      ]
     },
     "execution_count": 6,
     "metadata": {},
     "output_type": "execute_result"
    }
   ],
   "source": [
    "# Best estimate for point of intersection of y1=-x and y2=x+1\n",
    "\n",
    "best_history[-1] # Veeeeery close of x = -1/2 or -0.5"
   ]
  },
  {
   "cell_type": "markdown",
   "metadata": {},
   "source": [
    "### 7) Plot the fittest \"guinea pig\" of each generation\n",
    "Mutation introduces fitter \"guinea pigs\" into the population, causing the cost function of the fittest \"guinea pig\" to drop to nearly zero after several generations."
   ]
  },
  {
   "cell_type": "code",
   "execution_count": 7,
   "metadata": {},
   "outputs": [
    {
     "data": {
      "image/png": "[encoded data removed]",
      "text/plain": [
       "<Figure size 432x288 with 1 Axes>"
      ]
     },
     "metadata": {
      "needs_background": "light"
     },
     "output_type": "display_data"
    }
   ],
   "source": [
    "# Minimum cost function at minimum squared error\n",
    "\n",
    "plt.axhline(0, color='pink')\n",
    "plt.plot(range(epochs), [objective(x) for x in best_history])\n",
    "plt.xlim((0,100))\n",
    "plt.xlabel('Epoch')\n",
    "plt.ylabel('Squared error')\n",
    "plt.grid()\n",
    "plt.title('Cost function')\n",
    "plt.show()"
   ]
  },
  {
   "cell_type": "markdown",
   "metadata": {},
   "source": [
    "### 8) For comparison, analytically solve $y_{1} = y_{2}$ for $x$\n",
    "\n",
    "* The true value for the intersection point is $x =  -\\dfrac{1}{2}$ or $-0.5$\n",
    "* This is very close the genetic algorithm's best estimate."
   ]
  },
  {
   "cell_type": "code",
   "execution_count": 8,
   "metadata": {},
   "outputs": [
    {
     "data": {
      "image/png": "[encoded data removed]",
      "text/latex": [
       "$\\displaystyle \\left[ - \\frac{1}{2}\\right]$"
      ],
      "text/plain": [
       "[-1/2]"
      ]
     },
     "execution_count": 8,
     "metadata": {},
     "output_type": "execute_result"
    }
   ],
   "source": [
    "# Analytical solution\n",
    "\n",
    "sp.solve(y1-y2)"
   ]
  },
  {
   "cell_type": "code",
   "execution_count": 9,
   "metadata": {},
   "outputs": [
    {
     "data": {
      "image/png": "[encoded data removed]",
      "text/latex": [
       "$\\displaystyle 0.00217050924677509$"
      ],
      "text/plain": [
       "0.00217050924677509"
      ]
     },
     "execution_count": 9,
     "metadata": {},
     "output_type": "execute_result"
    }
   ],
   "source": [
    "# Difference between best estimate and true value\n",
    "\n",
    "error = best_history[-1] - sp.solve(y1-y2)[0]\n",
    "error"
   ]
  },
  {
   "cell_type": "code",
   "execution_count": 10,
   "metadata": {},
   "outputs": [
    {
     "data": {
      "image/png": "[encoded data removed]",
      "text/latex": [
       "$\\displaystyle 0.00434101849355017$"
      ],
      "text/plain": [
       "0.00434101849355017"
      ]
     },
     "execution_count": 10,
     "metadata": {},
     "output_type": "execute_result"
    }
   ],
   "source": [
    "# Error size as proportion of true value\n",
    "\n",
    "np.abs(error/sp.solve(y1-y2)[0])"
   ]
  },
  {
   "cell_type": "markdown",
   "metadata": {},
   "source": [
    "### Author\n",
    "H.N. 13/10/23"
   ]
  }
 ],
 "metadata": {
  "kernelspec": {
   "display_name": "base",
   "language": "python",
   "name": "python3"
  },
  "language_info": {
   "codemirror_mode": {
    "name": "ipython",
    "version": 3
   },
   "file_extension": ".py",
   "mimetype": "text/x-python",
   "name": "python",
   "nbconvert_exporter": "python",
   "pygments_lexer": "ipython3",
   "version": "3.9.12"
  }
 },
 "nbformat": 4,
 "nbformat_minor": 2
}
