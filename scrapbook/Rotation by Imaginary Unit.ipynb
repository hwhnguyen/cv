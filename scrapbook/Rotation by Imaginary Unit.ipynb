{
 "cells": [
  {
   "cell_type": "code",
   "execution_count": 1,
   "metadata": {},
   "outputs": [],
   "source": [
    "# Inspired by 3Blue1Brown's YouTube video\n",
    "# How (and why) to raise e to the power of a matrix | DE6\n",
    "# https://www.youtube.com/watch?v=O85OWBJ2ayo\n",
    "\n",
    "import numpy as np\n",
    "import sympy as sp\n",
    "import matplotlib.pyplot as plt\n",
    "\n",
    "theta = sp.Symbol('theta')"
   ]
  },
  {
   "cell_type": "markdown",
   "metadata": {},
   "source": [
    "The imaginary unit as a matrix of real numbers"
   ]
  },
  {
   "cell_type": "markdown",
   "metadata": {},
   "source": [
    "$i = \\begin{bmatrix}\n",
    "    Re(i)  & -Im(i) \\\\\n",
    "    Im(i)  &  Re(i) \\\\\n",
    "\\end{bmatrix} = \\begin{bmatrix}\n",
    "    0  & -1 \\\\\n",
    "    1  &  0 \\\\\n",
    "\\end{bmatrix}$"
   ]
  },
  {
   "cell_type": "code",
   "execution_count": 2,
   "metadata": {},
   "outputs": [],
   "source": [
    "# Imaginary unit as 2x2 rotation matrix\n",
    "\n",
    "i = sp.Matrix([[ 0,-1],\n",
    "               [ 1, 0]])"
   ]
  },
  {
   "cell_type": "markdown",
   "metadata": {},
   "source": [
    "$e^{iθ} = \\begin{bmatrix}\n",
    "      \\cosh(iθ)  & i\\sinh(iθ) \\\\\n",
    "    -i\\sinh(iθ)  &  \\cosh(iθ) \\\\\n",
    "\\end{bmatrix} = \\begin{bmatrix}\n",
    "    \\cos(θ)  & -\\sin(θ) \\\\\n",
    "    \\sin(θ)  &  \\cos(θ) \\\\\n",
    "\\end{bmatrix}$"
   ]
  },
  {
   "cell_type": "code",
   "execution_count": 3,
   "metadata": {},
   "outputs": [
    {
     "data": {
      "text/latex": [
       "$\\displaystyle \\left[\\begin{matrix}\\frac{e^{i \\theta}}{2} + \\frac{e^{- i \\theta}}{2} & \\frac{i e^{i \\theta}}{2} - \\frac{i e^{- i \\theta}}{2}\\\\- \\frac{i e^{i \\theta}}{2} + \\frac{i e^{- i \\theta}}{2} & \\frac{e^{i \\theta}}{2} + \\frac{e^{- i \\theta}}{2}\\end{matrix}\\right]$"
      ],
      "text/plain": [
       "Matrix([\n",
       "[     exp(I*theta)/2 + exp(-I*theta)/2, I*exp(I*theta)/2 - I*exp(-I*theta)/2],\n",
       "[-I*exp(I*theta)/2 + I*exp(-I*theta)/2,     exp(I*theta)/2 + exp(-I*theta)/2]])"
      ]
     },
     "execution_count": 3,
     "metadata": {},
     "output_type": "execute_result"
    }
   ],
   "source": [
    "# e^(iθ) yields a matrix of hyperbolic functions\n",
    "\n",
    "sp.exp(i*theta)"
   ]
  },
  {
   "cell_type": "code",
   "execution_count": 4,
   "metadata": {},
   "outputs": [
    {
     "data": {
      "text/latex": [
       "$\\displaystyle \\left[\\begin{matrix}\\cos{\\left(\\theta \\right)} & - \\sin{\\left(\\theta \\right)}\\\\\\sin{\\left(\\theta \\right)} & \\cos{\\left(\\theta \\right)}\\end{matrix}\\right]$"
      ],
      "text/plain": [
       "Matrix([\n",
       "[cos(theta), -sin(theta)],\n",
       "[sin(theta),  cos(theta)]])"
      ]
     },
     "execution_count": 4,
     "metadata": {},
     "output_type": "execute_result"
    }
   ],
   "source": [
    "# Hyperbolic functions with complex arguments simplify to trignometric functions\n",
    "\n",
    "sp.exp(i*theta).simplify()"
   ]
  },
  {
   "cell_type": "code",
   "execution_count": 5,
   "metadata": {},
   "outputs": [
    {
     "data": {
      "text/latex": [
       "$\\displaystyle \\left[\\begin{matrix}0 & 0\\\\0 & 0\\end{matrix}\\right]$"
      ],
      "text/plain": [
       "Matrix([\n",
       "[0, 0],\n",
       "[0, 0]])"
      ]
     },
     "execution_count": 5,
     "metadata": {},
     "output_type": "execute_result"
    }
   ],
   "source": [
    "# Hyperbolic functions with complex arguments simplify to trignometric functions\n",
    "\n",
    "exp_i8_hyp = sp.Matrix([\n",
    "    [      sp.cosh(sp.I*theta), sp.I*sp.sinh(sp.I*theta)],\n",
    "    [-sp.I*sp.sinh(sp.I*theta),      sp.cosh(sp.I*theta)]\n",
    "])\n",
    "\n",
    "exp_i8_trig = sp.Matrix([\n",
    "    [            sp.cos(theta),           -sp.sin(theta)],\n",
    "    [            sp.sin(theta),            sp.cos(theta)]\n",
    "])\n",
    "\n",
    "exp_i8_hyp - exp_i8_trig # The difference of equivalent matrices is zero"
   ]
  },
  {
   "cell_type": "code",
   "execution_count": 6,
   "metadata": {},
   "outputs": [
    {
     "data": {
      "text/latex": [
       "$\\displaystyle \\left[\\begin{matrix}0 & -1\\\\1 & 0\\end{matrix}\\right]$"
      ],
      "text/plain": [
       "Matrix([\n",
       "[0, -1],\n",
       "[1,  0]])"
      ]
     },
     "execution_count": 6,
     "metadata": {},
     "output_type": "execute_result"
    }
   ],
   "source": [
    "# i*1 = i\n",
    "\n",
    "one = sp.Matrix([[1,0],\n",
    "                 [0,1]]) # Identity matrix\n",
    "\n",
    "i@one"
   ]
  },
  {
   "cell_type": "markdown",
   "metadata": {},
   "source": [
    "$i = \\begin{bmatrix}\n",
    "    Re(i) \\\\\n",
    "    Im(i) \\\\\n",
    "\\end{bmatrix} = \\begin{bmatrix}\n",
    "    0 \\\\\n",
    "    1 \\\\\n",
    "\\end{bmatrix}$"
   ]
  },
  {
   "cell_type": "code",
   "execution_count": 7,
   "metadata": {},
   "outputs": [
    {
     "data": {
      "text/latex": [
       "$\\displaystyle \\left[\\begin{matrix}0\\\\1\\end{matrix}\\right]$"
      ],
      "text/plain": [
       "Matrix([\n",
       "[0],\n",
       "[1]])"
      ]
     },
     "execution_count": 7,
     "metadata": {},
     "output_type": "execute_result"
    }
   ],
   "source": [
    "# i*1 = i\n",
    "\n",
    "one = sp.Matrix([[1],\n",
    "                 [0]])\n",
    "\n",
    "i@one # Imaginary unit as 2x1 vector"
   ]
  },
  {
   "cell_type": "markdown",
   "metadata": {},
   "source": [
    "$e^{iπ} + 1 = 0$"
   ]
  },
  {
   "cell_type": "code",
   "execution_count": 8,
   "metadata": {},
   "outputs": [
    {
     "data": {
      "text/latex": [
       "$\\displaystyle 0$"
      ],
      "text/plain": [
       "0"
      ]
     },
     "execution_count": 8,
     "metadata": {},
     "output_type": "execute_result"
    }
   ],
   "source": [
    "# Euler's identity: e^(iπ) + 1 = 0\n",
    "\n",
    "sp.exp(sp.I*sp.pi) + 1"
   ]
  },
  {
   "cell_type": "code",
   "execution_count": 9,
   "metadata": {},
   "outputs": [
    {
     "data": {
      "text/latex": [
       "$\\displaystyle e^{i \\theta} = i \\sin{\\left(\\theta \\right)} + \\cos{\\left(\\theta \\right)}$"
      ],
      "text/plain": [
       "Eq(exp(I*theta), I*sin(theta) + cos(theta))"
      ]
     },
     "execution_count": 9,
     "metadata": {},
     "output_type": "execute_result"
    }
   ],
   "source": [
    "# Euler's formula: e^(iθ) = cos(θ) + isin(θ)\n",
    "\n",
    "theta = sp.Symbol('theta')\n",
    "\n",
    "Euler_formula = sp.Eq(sp.exp(sp.I*theta), sp.cos(theta) + sp.I*sp.sin(theta))\n",
    "Euler_formula"
   ]
  },
  {
   "cell_type": "code",
   "execution_count": 10,
   "metadata": {},
   "outputs": [
    {
     "data": {
      "text/latex": [
       "$\\displaystyle \\left[\\begin{matrix}1 & i & -1 & - i\\end{matrix}\\right]$"
      ],
      "text/plain": [
       "[1, I, -1, -I]"
      ]
     },
     "execution_count": 10,
     "metadata": {},
     "output_type": "execute_result"
    }
   ],
   "source": [
    "# Roots of unity\n",
    "\n",
    "roots = []\n",
    "for t in [0, sp.pi/2, sp.pi, 3*sp.pi/2]: # Anticlockwise right-angled rotations\n",
    "    roots.append(Euler_formula.rhs.subs({theta:t}))\n",
    "sp.Array(roots)"
   ]
  },
  {
   "cell_type": "code",
   "execution_count": 11,
   "metadata": {},
   "outputs": [
    {
     "data": {
      "image/png": "[encoded data removed]",
      "text/plain": [
       "<Figure size 360x360 with 1 Axes>"
      ]
     },
     "metadata": {
      "needs_background": "light"
     },
     "output_type": "display_data"
    }
   ],
   "source": [
    "# Plot roots of unity on Argand plane\n",
    "\n",
    "x = np.linspace(-1,1,10000)\n",
    "y_uppersemi = np.sqrt((-1)**2 + 0**2 - x**2)\n",
    "y_lowersemi = -y_uppersemi\n",
    "x_circle = np.hstack([x, x])\n",
    "y_circle = np.hstack([y_uppersemi, y_lowersemi])\n",
    "\n",
    "plt.figure(figsize=(5,5))\n",
    "ax = plt.gca()\n",
    "ax.set_aspect(1)\n",
    "plt.plot(x_circle,y_circle)\n",
    "plt.axhline(0, color='pink')\n",
    "plt.axvline(0, color='pink')\n",
    "plt.ylabel('Im(x)', fontsize=16)\n",
    "plt.xlabel('Re(x)', fontsize=16)\n",
    "plt.xlim(-2, 2)\n",
    "plt.ylim(-2, 2)\n",
    "plt.grid()\n",
    "plt.title('Roots of unity')\n",
    "plt.plot([sp.re(x) for x in roots],[sp.im(x) for x in roots],linestyle = \"\",marker='o')\n",
    "plt.show()"
   ]
  },
  {
   "cell_type": "code",
   "execution_count": null,
   "metadata": {},
   "outputs": [],
   "source": []
  }
 ],
 "metadata": {
  "kernelspec": {
   "display_name": "base",
   "language": "python",
   "name": "python3"
  },
  "language_info": {
   "codemirror_mode": {
    "name": "ipython",
    "version": 3
   },
   "file_extension": ".py",
   "mimetype": "text/x-python",
   "name": "python",
   "nbconvert_exporter": "python",
   "pygments_lexer": "ipython3",
   "version": "3.9.12"
  }
 },
 "nbformat": 4,
 "nbformat_minor": 2
}
